{
 "cells": [
  {
   "cell_type": "markdown",
   "metadata": {},
   "source": [
    "# Introduction\n",
    "\n",
    "This notebook is used to create counts of reads around known amplification breakpoints of CRT, MDR1, PM2_PM3 and GCH1. Most of these breakpoints were found by manual inspection of bam files in IGV in Pf6, but we also included known breakpoints from the literature based on the following papers:\n",
    "\n",
    "Nair 2007 https://www.ncbi.nlm.nih.gov/pubmed/17124182 MDR1 - see Table 1 for breakpoints\n",
    "\n",
    "Nair 2008 http://dx.plos.org/10.1371/journal.pgen.1000243 GCH1 - see supplementary table S3 for breakpoints\n",
    "\n",
    "And finally, we also included the following new breakpoints based on Chiyun's manual inspections.\n",
    "\n",
    "New tandem duplication breakpoints (identified using faceaway reads):\n",
    "```\n",
    "Pf3D7_05_v3\t946346\t946375\t978174\t978199\t\t\tPfMDR1_dup_28\tPfMDR1_dup_28\tMDR1\t1\t\n",
    "\n",
    "Pf3D7_12_v3\t945388\t945416\t977926\t977949\t\t\tPfGCH1_dup_10\tPfGCH1_dup_10\tGCH1\t1\t\n",
    "```\n",
    "\n",
    "New dup/trp-inv/dup (DTD) breakpoints (identified using same direction reads):\n",
    "```\n",
    "Pf3D7_05_v3\t948197\t948217\t948453\t948471\t964505\t964540\t980012\t980040\t\t\t\t\t32kb dup-trpinv-dup MDR1\tPfMDR1_DTD_2\tMDR1\t1\t\n",
    "\n",
    "Pf3D7_12_v3\t971147\t971178\t971233\t971251\t976399\t976426\t976456\t976503\t\t\t\t\t5kb dup-trpinv-dup GCH1\tPfGCH1_DTD_3\tGCH1\t1\t\n",
    "```\n",
    "\n",
    "Note that although in this notebook we determine evidence for DTDs using same direction reads, this information isn't used in the final CNV calls which only uses faceaway evidence, i.e. only evidence for tandem duplications.\n",
    "\n",
    "This notebook is based on https://gitlab.com/malariagen/gsp/pf7.0/-/blob/69cd1a03ec30e79cd82e0a4ca1b79b8eb644d29c/work/89_call_cnvs_using_pf6_pipeline/20201005_pf7_read_pair_dups.ipynb which in turn was based on https://github.com/malariagen/Pf-6.0-public-release/blob/335ba7e60d7d006e2d817e82cfdd53e9f18e0f91/notebooks/rp7/20170405_pf_60_read_pair_dups.ipynb.\n",
    "\n"
   ]
  },
  {
   "cell_type": "code",
   "execution_count": 1,
   "metadata": {
    "tags": []
   },
   "outputs": [
    {
     "name": "stdout",
     "output_type": "stream",
     "text": [
      "Mon Feb 24 09:46:06 AM GMT 2025\n",
      "<INSERT PATH HERE>/malariagen-pf8-cnv-calling/05_faceaway_calls\n",
      "node-14-10\n"
     ]
    }
   ],
   "source": [
    "!date\n",
    "!pwd\n",
    "!hostname"
   ]
  },
  {
   "cell_type": "code",
   "execution_count": 2,
   "metadata": {
    "tags": []
   },
   "outputs": [],
   "source": [
    "import collections\n",
    "import os\n",
    "import numpy as np\n",
    "import pandas as pd\n",
    "import petl as etl\n",
    "import pysam\n",
    "\n",
    "etl.config.display_index_header = True"
   ]
  },
  {
   "cell_type": "markdown",
   "metadata": {},
   "source": [
    "# Setup"
   ]
  },
  {
   "cell_type": "code",
   "execution_count": null,
   "metadata": {
    "tags": []
   },
   "outputs": [],
   "source": [
    "todays_date = '20250128'\n",
    "\n",
    "lustre_dir = \"<INSERT PATH HERE>/malariagen-pf8-cnv-calling/05_faceaway_data_generation\"\n",
    "\n",
    "SAMPLE_META_PATH = \"../../assets_pf8/Pf_8_samples_20241212.txt\"\n",
    "BAM_PATHS_PATH   = \"../../assets_pf8/01_paths_to_bams.tsv\"\n",
    "\n",
    "pf8_qc_pass_bams_fn           = f'pf8_qc_pass_bams_{todays_date}.tsv'\n",
    "tandem_dup_breakpoints_fn     = f\"../breakpoint_searching_notebooks/tandem_dup_breakpoints_{todays_date}.txt\"\n",
    "dup_trpinv_dup_breakpoints_fn = f\"../breakpoint_searching_notebooks/dup_trpinv_dup_breakpoints_{todays_date}.txt\"\n",
    "breakpoint_read_counts_fn     = f\"../breakpoint_read_counts_{todays_date}.tsv\"\n",
    "\n",
    "py_script_fn  = f'create_breakpoint_read_counts_file_{todays_date}.py'\n",
    "job_script_fn = f'run_create_breakpoint_read_counts_file_{todays_date}.sh' # desired job script name\n",
    "\n",
    "output_dir = \"all_samples\"\n"
   ]
  },
  {
   "cell_type": "code",
   "execution_count": 4,
   "metadata": {
    "tags": []
   },
   "outputs": [],
   "source": [
    "!mkdir -p {lustre_dir}/all_samples/create_breakpoint_read_counts_file_logs"
   ]
  },
  {
   "cell_type": "markdown",
   "metadata": {},
   "source": [
    "---\n",
    "\n",
    "# Read Pf8 bams file"
   ]
  },
  {
   "cell_type": "code",
   "execution_count": null,
   "metadata": {
    "tags": []
   },
   "outputs": [],
   "source": [
    "df_pf8_internal_release_bams = pd.read_csv(BAM_PATHS_PATH, sep='\\t', index_col=0, names = [\"Sample\", \"PATH_TO_BAM\"])\n",
    "print(df_pf8_internal_release_bams.shape)\n",
    "df_pf8_internal_release_bams.head(3)"
   ]
  },
  {
   "cell_type": "code",
   "execution_count": 6,
   "metadata": {
    "tags": []
   },
   "outputs": [
    {
     "name": "stdout",
     "output_type": "stream",
     "text": [
      "(33325, 1)\n"
     ]
    },
    {
     "data": {
      "text/html": [
       "<div>\n",
       "<style scoped>\n",
       "    .dataframe tbody tr th:only-of-type {\n",
       "        vertical-align: middle;\n",
       "    }\n",
       "\n",
       "    .dataframe tbody tr th {\n",
       "        vertical-align: top;\n",
       "    }\n",
       "\n",
       "    .dataframe thead th {\n",
       "        text-align: right;\n",
       "    }\n",
       "</style>\n",
       "<table border=\"1\" class=\"dataframe\">\n",
       "  <thead>\n",
       "    <tr style=\"text-align: right;\">\n",
       "      <th></th>\n",
       "      <th>QC pass</th>\n",
       "    </tr>\n",
       "    <tr>\n",
       "      <th>Sample</th>\n",
       "      <th></th>\n",
       "    </tr>\n",
       "  </thead>\n",
       "  <tbody>\n",
       "    <tr>\n",
       "      <th>FP0008-C</th>\n",
       "      <td>True</td>\n",
       "    </tr>\n",
       "    <tr>\n",
       "      <th>FP0009-C</th>\n",
       "      <td>True</td>\n",
       "    </tr>\n",
       "    <tr>\n",
       "      <th>FP0010-CW</th>\n",
       "      <td>True</td>\n",
       "    </tr>\n",
       "  </tbody>\n",
       "</table>\n",
       "</div>"
      ],
      "text/plain": [
       "           QC pass\n",
       "Sample            \n",
       "FP0008-C      True\n",
       "FP0009-C      True\n",
       "FP0010-CW     True"
      ]
     },
     "execution_count": 6,
     "metadata": {},
     "output_type": "execute_result"
    }
   ],
   "source": [
    "df_pf8_postqc = pd.read_csv(SAMPLE_META_PATH, sep='\\t', index_col=0, usecols=['Sample', 'QC pass'])\n",
    "print(df_pf8_postqc.shape)\n",
    "df_pf8_postqc.head(3)"
   ]
  },
  {
   "cell_type": "code",
   "execution_count": null,
   "metadata": {},
   "outputs": [],
   "source": [
    "df_pf8_qcpass_bams = df_pf8_postqc.join(df_pf8_internal_release_bams)\n",
    "\n",
    "print(df_pf8_qcpass_bams.shape)\n",
    "print()\n",
    "\n",
    "print(df_pf8_qcpass_bams[\"QC pass\"].value_counts(dropna = False))\n",
    "print()\n",
    "\n",
    "df_pf8_qcpass_bams = df_pf8_qcpass_bams.loc[df_pf8_qcpass_bams[\"QC pass\"] == True][[\"PATH_TO_BAM\"]]\n",
    "df_pf8_qcpass_bams.to_csv(pf8_qc_pass_bams_fn, sep = \"\\t\", header = False)\n",
    "print(df_pf8_qcpass_bams.shape)\n",
    "print(\"Generated\", pf8_qc_pass_bams_fn)\n",
    "\n",
    "df_pf8_qcpass_bams.head(3)"
   ]
  },
  {
   "cell_type": "markdown",
   "metadata": {},
   "source": [
    "---\n",
    "---\n",
    "\n",
    "# Functions"
   ]
  },
  {
   "cell_type": "code",
   "execution_count": null,
   "metadata": {
    "tags": []
   },
   "outputs": [
    {
     "data": {
      "text/plain": [
       "(0.03680981595092025, 6, 163)"
      ]
     },
     "execution_count": 8,
     "metadata": {},
     "output_type": "execute_result"
    }
   ],
   "source": [
    "# This function calculates the number of reads in a specific region of the genome, and also the number of these that\n",
    "# are considered \"faceaway\" reads. The region considered is the `start_region` here, and this would typically be a few\n",
    "# hundred base pairs to the right of the left hand breakpoint. A read is considered a \"faceaway\" read only if it maps in\n",
    "# a reverse oritentation, if its mate maps in a forward orientation, if its mate maps in the `end_region` - typically\n",
    "# a few hundred base pairs to the left of the right hand breakpoint and if it has a mapping quality greater than zero.\n",
    "# Note that reads around the right hand breakpoint are not considered, other than if they are mates of read near the left\n",
    "# hand breakpoint\n",
    "# This function could probably be improved, for example also looking at reads around right hand breakpoint\n",
    "\n",
    "def calc_proportion_faceaway(\n",
    "    bam_fn,\n",
    "    chrom,\n",
    "    start_region, # 2-element list containing start and end positions (1-based) of region to right of first breakpoint in which to search for faceaway reads\n",
    "    end_region,   # 2-element list containing start and end positions (1-based) of region to left of second breakpoint in which to search for faceaway reads\n",
    "):\n",
    "    \"\"\"Returns a tuple of len 3 containing: proportion_faceaway, num_faceaway, num_reads\"\"\"\n",
    "    samfile = pysam.AlignmentFile(bam_fn, \"rb\")\n",
    "    num_faceaway = 0\n",
    "    num_reads = 0\n",
    "    iter = samfile.fetch(chrom, start_region[0], start_region[1])\n",
    "    \n",
    "    for x in iter:\n",
    "        num_reads += 1\n",
    "        if (\n",
    "            x.is_paired and\n",
    "            x.is_reverse and\n",
    "            (not x.mate_is_reverse) and\n",
    "            x.mpos >= end_region[0] and\n",
    "            x.mpos <= end_region[1] and\n",
    "            x.mapping_quality > 0 and # Important, as don't want ambiguously mapped reads\n",
    "            x.pos < x.mpos            # Important, e.g. in PfGCH1_promoter_dup_1, where start_region very close to end region\n",
    "        ):\n",
    "            num_faceaway += 1\n",
    "    \n",
    "    if num_reads > 0:\n",
    "        proportion_faceaway = num_faceaway/num_reads\n",
    "    else:\n",
    "        proportion_faceaway = float(np.nan)\n",
    "    \n",
    "    return(proportion_faceaway, num_faceaway, num_reads)\n",
    "\n",
    "\n",
    "\n",
    "# Example usage:\n",
    "calc_proportion_faceaway(\n",
    "    bam_fn       = df_pf8_qcpass_bams.loc[\"PH0906-C\", \"PATH_TO_BAM\"],\n",
    "    chrom        = \"Pf3D7_14_v3\",\n",
    "    start_region = [282969, 283269],\n",
    "    end_region   = [362690, 362990]\n",
    ")\n",
    "\n",
    "# Below, it reads 6 of 163 reads (3.7%) were faceaway"
   ]
  },
  {
   "cell_type": "code",
   "execution_count": null,
   "metadata": {
    "tags": []
   },
   "outputs": [
    {
     "data": {
      "text/plain": [
       "(0.06573705179282868, 33, 502)"
      ]
     },
     "execution_count": 9,
     "metadata": {},
     "output_type": "execute_result"
    }
   ],
   "source": [
    "# This looks for pairs of reads mapping in the same direction (indicative of an inversion)\n",
    "# This is used when looking for dup-trpinv-dup (DTD) events\n",
    "# The logic is similar to that of the calc_proportion_faceaway function above\n",
    "def calc_proportion_same_direction(\n",
    "    bam_fn,\n",
    "    chrom,\n",
    "    start_region, # 2-element list containing start and end positions (1-based) of region to left of first breakpoint in which to search for faceaway reads\n",
    "    end_region,   # 2-element list containing start and end positions (1-based) of region to left of second breakpoint in which to search for faceaway reads\n",
    "    direction     # can be \"forward\" or \"reverse\"\n",
    "):\n",
    "    samfile = pysam.AlignmentFile(bam_fn, \"rb\")\n",
    "    num_same_direction = 0\n",
    "    num_reads = 0\n",
    "    iter = samfile.fetch(chrom, start_region[0], start_region[1])\n",
    "    \n",
    "    for x in iter:\n",
    "        num_reads += 1\n",
    "        if direction=='forward':\n",
    "            if (x.is_paired and (not x.is_reverse) and (not x.mate_is_reverse) and x.mpos >= end_region[0] and x.mpos <= end_region[1]):\n",
    "                num_same_direction += 1\n",
    "        if direction=='reverse':\n",
    "            if (x.is_paired and x.is_reverse and x.mate_is_reverse and x.mpos >= end_region[0] and x.mpos <= end_region[1]):\n",
    "                num_same_direction += 1\n",
    "    \n",
    "    if num_reads > 0:\n",
    "        proportion_same_direction = num_same_direction/num_reads\n",
    "    else:\n",
    "        proportion_same_direction = float(np.nan)\n",
    "    \n",
    "    return(proportion_same_direction, num_same_direction, num_reads)\n",
    "\n",
    "calc_proportion_same_direction(\n",
    "    bam_fn       = '<INSERT PATH HERE>/2b/PH0267-C/PH0267-C.bam', # PH0267-C\n",
    "    chrom        = 'Pf3D7_05_v3',\n",
    "    start_region = [928240, 928840],\n",
    "    end_region   = [938811, 939411],\n",
    "    direction    = 'reverse'\n",
    ")\n",
    "\n",
    "# Below, it reads 33 of 502 reads (6.6%) were same orientation"
   ]
  },
  {
   "cell_type": "code",
   "execution_count": null,
   "metadata": {
    "tags": []
   },
   "outputs": [
    {
     "name": "stdout",
     "output_type": "stream",
     "text": [
      "CPU times: user 301 ms, sys: 57.9 ms, total: 358 ms\n",
      "Wall time: 366 ms\n"
     ]
    },
    {
     "data": {
      "text/plain": [
       "OrderedDict([('faceaway',\n",
       "              OrderedDict([('42kb around MDR1', (0.0, 0, 78)),\n",
       "                           ('17.7kb around MDR1', (0.0, 0, 248)),\n",
       "                           ('15kb around MDR1', (0.0, 0, 126)),\n",
       "                           ('19kb around MDR1', (0.0, 0, 124)),\n",
       "                           ('11kb around MDR1', (0.0, 0, 124)),\n",
       "                           ('22kb around MDR1', (0.0, 0, 131)),\n",
       "                           ('16kb around MDR1', (0.0, 0, 124)),\n",
       "                           ('199kb around MDR1', (0.0, 0, 88)),\n",
       "                           ('94kb around MDR1', (0.0, 0, 143)),\n",
       "                           ('169kb around MDR1', (0.0, 0, 223)),\n",
       "                           ('82kb around MDR1', (0.0, 0, 101)),\n",
       "                           ('96kb around MDR1', (0.0, 0, 163)),\n",
       "                           ('18kb around MDR1', (0.0, 0, 162)),\n",
       "                           ('24kb around MDR1', (0.0, 0, 162)),\n",
       "                           ('PfMDR1_dup_15', (0.0, 0, 149)),\n",
       "                           ('PfMDR1_dup_16', (0.0, 0, 131)),\n",
       "                           ('PfMDR1_dup_17', (0.0, 0, 149)),\n",
       "                           ('PfMDR1_dup_18', (0.0, 0, 124)),\n",
       "                           ('PfMDR1_dup_19', (0.0, 0, 124)),\n",
       "                           ('PfMDR1_dup_20', (0.0, 0, 162)),\n",
       "                           ('PfMDR1_dup_21', (0.0, 0, 149)),\n",
       "                           ('PfMDR1_dup_22', (0.0, 0, 148)),\n",
       "                           ('PfMDR1_dup_23', (0.0, 0, 125)),\n",
       "                           ('PfMDR1_dup_24', (0.0, 0, 81)),\n",
       "                           ('PfMDR1_dup_25', (0.0, 0, 78)),\n",
       "                           ('PfMDR1_dup_26', (0.0, 0, 124)),\n",
       "                           ('PfMDR1_dup_27', (0.0, 0, 151)),\n",
       "                           ('PfMDR1_dup_28', (0.0, 0, 149)),\n",
       "                           ('Nair 1 MDR1', (0.0, 0, 144)),\n",
       "                           ('Nair 2 MDR1', (0.0, 0, 133)),\n",
       "                           ('Nair 3 MDR1', (0.0, 0, 148)),\n",
       "                           ('Nair 4 MDR1', (0.0, 0, 124)),\n",
       "                           ('Nair 5 MDR1', (0.0, 0, 124)),\n",
       "                           ('Nair 6 MDR1', (0.0, 0, 117)),\n",
       "                           ('Nair 7 MDR1', (0.0, 0, 124)),\n",
       "                           ('Nair 8 MDR1', (0.0, 0, 126)),\n",
       "                           ('Nair 9 MDR1', (0.0, 0, 160)),\n",
       "                           ('Nair 12 MDR1', (0.0, 0, 124)),\n",
       "                           ('Nair 13 MDR1', (0.0, 0, 124)),\n",
       "                           ('Nair 15 MDR1', (0.0, 0, 154)),\n",
       "                           ('Nair B8 MDR1', (0.0, 0, 159)),\n",
       "                           ('Nair DD2 MDR1', (0.0, 0, 100)),\n",
       "                           ('17kb from plasmepsin IV', (0.0, 0, 321)),\n",
       "                           ('80kb from plasmepsin IV',\n",
       "                            (0.018691588785046728, 6, 321)),\n",
       "                           ('plasmepsin I to plasmepsin III',\n",
       "                            (0.003205128205128205, 1, 312)),\n",
       "                           ('GCH1 promoter', (0.0, 0, 168)),\n",
       "                           ('PfGCH1_dup_1', (0.0, 0, 150)),\n",
       "                           ('PfGCH1_dup_2', (0.0, 0, 121)),\n",
       "                           ('PfGCH1_dup_3', (0.0, 0, 194)),\n",
       "                           ('PfGCH1_dup_4', (0.0, 0, 126)),\n",
       "                           ('PfGCH1_dup_5', (0.0, 0, 222)),\n",
       "                           ('PfGCH1_dup_6', (0.0, 0, 194)),\n",
       "                           ('PfGCH1_dup_7', (0.0, 0, 255)),\n",
       "                           ('PfGCH1_dup_8', (0.011904761904761904, 2, 168)),\n",
       "                           ('PfGCH1_dup_9', (0.0, 0, 150)),\n",
       "                           ('PfGCH1_dup_10', (0.0, 0, 163)),\n",
       "                           ('Nair 1.8kb GCH1', (0.0, 0, 294)),\n",
       "                           ('Nair 2.2kb GCH1', (0.012048192771084338, 2, 166)),\n",
       "                           ('Nair 8.7kb GCH1', (0.0, 0, 137)),\n",
       "                           ('Nair 7.2kb GCH1', (0.0, 0, 143)),\n",
       "                           ('SCO1-MED14', (0.0, 0, 127)),\n",
       "                           ('SCO1-MED14-Laos', (0.0, 0, 177)),\n",
       "                           ('COX4-MED14', (0.0, 0, 120)),\n",
       "                           ('HSP110-MED14', (0.0, 0, 169)),\n",
       "                           ('S8e-Cg7', (0.0, 0, 132))])),\n",
       "             ('dup_trpinv_dup',\n",
       "              OrderedDict([('57kb dup-trpinv-dup MDR1 first', (0.0, 0, 214)),\n",
       "                           ('57kb dup-trpinv-dup MDR1 second', (0.0, 0, 173)),\n",
       "                           ('32kb dup-trpinv-dup MDR1 first', (0.0, 0, 133)),\n",
       "                           ('32kb dup-trpinv-dup MDR1 second', (0.0, 0, 175)),\n",
       "                           ('50kb dup-trpinv-dup GCH1 first', (0.0, 0, 59)),\n",
       "                           ('50kb dup-trpinv-dup GCH1 second', (0.0, 0, 143)),\n",
       "                           ('42kb dup-trpinv-dup GCH1 first', (0.0, 0, 97)),\n",
       "                           ('42kb dup-trpinv-dup GCH1 second', (0.0, 0, 139)),\n",
       "                           ('5kb dup-trpinv-dup GCH1 first', (0.0, 0, 159)),\n",
       "                           ('5kb dup-trpinv-dup GCH1 second',\n",
       "                            (0.0, 0, 106))]))])"
      ]
     },
     "execution_count": 33,
     "metadata": {},
     "output_type": "execute_result"
    }
   ],
   "source": [
    "%%time\n",
    "\n",
    "def genotype_duplications(\n",
    "    bam_fn,\n",
    "    tandem_dup_breakpoints_fn     = tandem_dup_breakpoints_fn,\n",
    "    dup_trpinv_dup_breakpoints_fn = dup_trpinv_dup_breakpoints_fn,\n",
    "    region_size                   = 600,\n",
    "    region_offset                 = 100,\n",
    "):\n",
    "    df_tandem_dup_breakpoints = pd.read_csv(tandem_dup_breakpoints_fn, sep='\\t')\n",
    "    df_dup_trpinv_dup_breakpoints = pd.read_csv(dup_trpinv_dup_breakpoints_fn, sep='\\t')\n",
    "    \n",
    "    genotype_results = collections.OrderedDict()\n",
    "    genotype_results['faceaway'] = collections.OrderedDict()\n",
    "    genotype_results['dup_trpinv_dup'] = collections.OrderedDict()\n",
    "    \n",
    "    for _, rec in df_tandem_dup_breakpoints.iterrows():\n",
    "        genotype_results['faceaway'][rec.iloc[7]] = calc_proportion_faceaway(\n",
    "            bam_fn,\n",
    "            chrom = rec.iloc[0],\n",
    "            start_region = [\n",
    "                rec.iloc[2] - region_offset,\n",
    "                rec.iloc[2] - region_offset + region_size\n",
    "            ],\n",
    "            end_region = [\n",
    "                rec.iloc[3] - region_size,\n",
    "                rec.iloc[3],\n",
    "            ]\n",
    "        )\n",
    "    \n",
    "    for _, rec in df_dup_trpinv_dup_breakpoints.iterrows():\n",
    "        genotype_results['dup_trpinv_dup'][\"%s first\" % rec.iloc[13]] = calc_proportion_same_direction(\n",
    "            bam_fn,\n",
    "            chrom = rec.iloc[0],\n",
    "            start_region = [\n",
    "                rec.iloc[1] - region_offset,\n",
    "                rec.iloc[1] - region_offset + region_size\n",
    "            ],\n",
    "            end_region = [\n",
    "                rec.iloc[3] - region_offset,\n",
    "                rec.iloc[3] - region_offset + region_size,\n",
    "            ],\n",
    "            direction = 'reverse'\n",
    "        )\n",
    "        genotype_results['dup_trpinv_dup'][\"%s second\" % rec.iloc[13]] = calc_proportion_same_direction(\n",
    "            bam_fn,\n",
    "            chrom = rec.iloc[0],\n",
    "            start_region = [\n",
    "                rec.iloc[6] - region_size + region_offset,\n",
    "                rec.iloc[6] + region_offset\n",
    "            ],\n",
    "            end_region = [\n",
    "                rec.iloc[8] - region_size + region_offset,\n",
    "                rec.iloc[8] + region_offset,\n",
    "            ],\n",
    "            direction = 'forward'\n",
    "        )\n",
    "    \n",
    "    return(genotype_results)\n",
    "\n",
    "# Example usage:\n",
    "genotype_duplications(\n",
    "    bam_fn                        = '<INSERT PATH HERE>/74/PH0906-C/PH0906-C.bam',\n",
    "    tandem_dup_breakpoints_fn     = tandem_dup_breakpoints_fn,\n",
    "    dup_trpinv_dup_breakpoints_fn = dup_trpinv_dup_breakpoints_fn,\n",
    "    region_size                   = 600,\n",
    "    region_offset                 = 100,\n",
    ")\n",
    "\n",
    "# Below, you will see a line that says `('Nair 2.2kb GCH1', (0.012048192771084338, 2, 166))`, which says that for this \"Nair 2.2kb GCH1\" type\n",
    "# amplification, there were 2 out of 166 reads that showed evidence for it, which was 1.2%"
   ]
  },
  {
   "cell_type": "code",
   "execution_count": null,
   "metadata": {
    "tags": []
   },
   "outputs": [
    {
     "data": {
      "text/plain": [
       "OrderedDict([('faceaway',\n",
       "              OrderedDict([('42kb around MDR1', (0.0, 0, 24)),\n",
       "                           ('17.7kb around MDR1', (0.0, 0, 141)),\n",
       "                           ('15kb around MDR1', (0.0, 0, 49)),\n",
       "                           ('19kb around MDR1', (0.0, 0, 40)),\n",
       "                           ('11kb around MDR1', (0.0, 0, 40)),\n",
       "                           ('22kb around MDR1', (0.0, 0, 42)),\n",
       "                           ('16kb around MDR1', (0.0, 0, 40)),\n",
       "                           ('199kb around MDR1', (0.0, 0, 23)),\n",
       "                           ('94kb around MDR1', (0.0, 0, 72)),\n",
       "                           ('169kb around MDR1', (0.0, 0, 120)),\n",
       "                           ('82kb around MDR1', (0.0, 0, 28)),\n",
       "                           ('96kb around MDR1', (0.0, 0, 55)),\n",
       "                           ('18kb around MDR1', (0.0, 0, 68)),\n",
       "                           ('24kb around MDR1', (0.0, 0, 68)),\n",
       "                           ('PfMDR1_dup_15', (0.0, 0, 74)),\n",
       "                           ('PfMDR1_dup_16', (0.0, 0, 42)),\n",
       "                           ('PfMDR1_dup_17', (0.0, 0, 74)),\n",
       "                           ('PfMDR1_dup_18', (0.0, 0, 40)),\n",
       "                           ('PfMDR1_dup_19', (0.0, 0, 40)),\n",
       "                           ('PfMDR1_dup_20', (0.0, 0, 68)),\n",
       "                           ('PfMDR1_dup_21', (0.0, 0, 74)),\n",
       "                           ('PfMDR1_dup_22', (0.0, 0, 53)),\n",
       "                           ('PfMDR1_dup_23', (0.0, 0, 40)),\n",
       "                           ('PfMDR1_dup_24', (0.0, 0, 14)),\n",
       "                           ('PfMDR1_dup_25', (0.0, 0, 24)),\n",
       "                           ('PfMDR1_dup_26', (0.0, 0, 40)),\n",
       "                           ('PfMDR1_dup_27', (0.0, 0, 35)),\n",
       "                           ('PfMDR1_dup_28', (0.0, 0, 74)),\n",
       "                           ('Nair 1 MDR1', (0.0, 0, 66)),\n",
       "                           ('Nair 2 MDR1', (0.0, 0, 43)),\n",
       "                           ('Nair 3 MDR1', (0.0, 0, 75)),\n",
       "                           ('Nair 4 MDR1', (0.0, 0, 39)),\n",
       "                           ('Nair 5 MDR1', (0.0, 0, 39)),\n",
       "                           ('Nair 6 MDR1', (0.0, 0, 39)),\n",
       "                           ('Nair 7 MDR1', (0.0, 0, 39)),\n",
       "                           ('Nair 8 MDR1', (0.0, 0, 49)),\n",
       "                           ('Nair 9 MDR1', (0.0, 0, 68)),\n",
       "                           ('Nair 12 MDR1', (0.0, 0, 39)),\n",
       "                           ('Nair 13 MDR1', (0.0, 0, 39)),\n",
       "                           ('Nair 15 MDR1', (0.0, 0, 65)),\n",
       "                           ('Nair B8 MDR1', (0.0, 0, 53)),\n",
       "                           ('Nair DD2 MDR1', (0.0, 0, 27)),\n",
       "                           ('17kb from plasmepsin IV', (0.0, 0, 98)),\n",
       "                           ('80kb from plasmepsin IV', (0.0, 0, 98)),\n",
       "                           ('plasmepsin I to plasmepsin III', (0.0, 0, 93)),\n",
       "                           ('GCH1 promoter', (0.0, 0, 23)),\n",
       "                           ('PfGCH1_dup_1', (0.0, 0, 104)),\n",
       "                           ('PfGCH1_dup_2', (0.0, 0, 41)),\n",
       "                           ('PfGCH1_dup_3', (0.0, 0, 97)),\n",
       "                           ('PfGCH1_dup_4', (0.0, 0, 68)),\n",
       "                           ('PfGCH1_dup_5', (0.0, 0, 113)),\n",
       "                           ('PfGCH1_dup_6', (0.0, 0, 97)),\n",
       "                           ('PfGCH1_dup_7', (0.0, 0, 63)),\n",
       "                           ('PfGCH1_dup_8', (0.0, 0, 23)),\n",
       "                           ('PfGCH1_dup_9', (0.0, 0, 104)),\n",
       "                           ('PfGCH1_dup_10', (0.0, 0, 73)),\n",
       "                           ('Nair 1.8kb GCH1', (0.0, 0, 78)),\n",
       "                           ('Nair 2.2kb GCH1', (0.0, 0, 21)),\n",
       "                           ('Nair 8.7kb GCH1', (0.0, 0, 33)),\n",
       "                           ('Nair 7.2kb GCH1', (0.0, 0, 98)),\n",
       "                           ('SCO1-MED14', (0.028985507246376812, 2, 69)),\n",
       "                           ('SCO1-MED14-Laos', (0.0, 0, 166)),\n",
       "                           ('COX4-MED14', (0.0, 0, 25)),\n",
       "                           ('HSP110-MED14', (0.0, 0, 41)),\n",
       "                           ('S8e-Cg7', (0.0, 0, 14))])),\n",
       "             ('dup_trpinv_dup',\n",
       "              OrderedDict([('57kb dup-trpinv-dup MDR1 first', (0.0, 0, 80)),\n",
       "                           ('57kb dup-trpinv-dup MDR1 second', (0.0, 0, 104)),\n",
       "                           ('32kb dup-trpinv-dup MDR1 first', (0.0, 0, 43)),\n",
       "                           ('32kb dup-trpinv-dup MDR1 second', (0.0, 0, 104)),\n",
       "                           ('50kb dup-trpinv-dup GCH1 first', (0.0, 0, 5)),\n",
       "                           ('50kb dup-trpinv-dup GCH1 second', (0.0, 0, 50)),\n",
       "                           ('42kb dup-trpinv-dup GCH1 first', (0.0, 0, 23)),\n",
       "                           ('42kb dup-trpinv-dup GCH1 second', (0.0, 0, 73)),\n",
       "                           ('5kb dup-trpinv-dup GCH1 first', (0.0, 0, 87)),\n",
       "                           ('5kb dup-trpinv-dup GCH1 second',\n",
       "                            (0.0, 0, 16))]))])"
      ]
     },
     "execution_count": 35,
     "metadata": {},
     "output_type": "execute_result"
    }
   ],
   "source": [
    "# Example usage: This should be a triplication at SCO1-MED14\n",
    "genotype_duplications('<INSERT PATH HERE>/5e/PF0149-C/PF0149-C.bam')\n",
    "\n",
    "# We see \"('SCO1-MED14', (0.028985507246376812, 2, 69))\", which tells us that there were 2 reads out of 69 (2.9%) for this specific\n",
    "# breakpoint, which showed faceaway reads"
   ]
  },
  {
   "cell_type": "code",
   "execution_count": null,
   "metadata": {
    "tags": []
   },
   "outputs": [
    {
     "data": {
      "text/plain": [
       "OrderedDict([('faceaway',\n",
       "              OrderedDict([('42kb around MDR1', (0.0, 0, 220)),\n",
       "                           ('17.7kb around MDR1', (0.0, 0, 737)),\n",
       "                           ('15kb around MDR1', (0.0, 0, 704)),\n",
       "                           ('19kb around MDR1', (0.0, 0, 576)),\n",
       "                           ('11kb around MDR1', (0.0, 0, 576)),\n",
       "                           ('22kb around MDR1', (0.0, 0, 698)),\n",
       "                           ('16kb around MDR1', (0.0, 0, 576)),\n",
       "                           ('199kb around MDR1', (0.0, 0, 290)),\n",
       "                           ('94kb around MDR1', (0.0, 0, 326)),\n",
       "                           ('169kb around MDR1', (0.0, 0, 366)),\n",
       "                           ('82kb around MDR1', (0.0, 0, 241)),\n",
       "                           ('96kb around MDR1', (0.0, 0, 324)),\n",
       "                           ('18kb around MDR1', (0.0, 0, 655)),\n",
       "                           ('24kb around MDR1', (0.0, 0, 655)),\n",
       "                           ('PfMDR1_dup_15', (0.0, 0, 562)),\n",
       "                           ('PfMDR1_dup_16', (0.0, 0, 626)),\n",
       "                           ('PfMDR1_dup_17', (0.0, 0, 562)),\n",
       "                           ('PfMDR1_dup_18', (0.0, 0, 576)),\n",
       "                           ('PfMDR1_dup_19', (0.0, 0, 576)),\n",
       "                           ('PfMDR1_dup_20', (0.0, 0, 655)),\n",
       "                           ('PfMDR1_dup_21', (0.0, 0, 562)),\n",
       "                           ('PfMDR1_dup_22', (0.0, 0, 296)),\n",
       "                           ('PfMDR1_dup_23', (0.0, 0, 291)),\n",
       "                           ('PfMDR1_dup_24', (0.0, 0, 174)),\n",
       "                           ('PfMDR1_dup_25', (0.0, 0, 220)),\n",
       "                           ('PfMDR1_dup_26', (0.0, 0, 576)),\n",
       "                           ('PfMDR1_dup_27', (0.0, 0, 363)),\n",
       "                           ('PfMDR1_dup_28', (0.04804270462633452, 27, 562)),\n",
       "                           ('Nair 1 MDR1', (0.0, 0, 637)),\n",
       "                           ('Nair 2 MDR1', (0.0, 0, 623)),\n",
       "                           ('Nair 3 MDR1', (0.0, 0, 564)),\n",
       "                           ('Nair 4 MDR1', (0.0, 0, 575)),\n",
       "                           ('Nair 5 MDR1', (0.0, 0, 575)),\n",
       "                           ('Nair 6 MDR1', (0.0, 0, 283)),\n",
       "                           ('Nair 7 MDR1', (0.0, 0, 575)),\n",
       "                           ('Nair 8 MDR1', (0.0, 0, 707)),\n",
       "                           ('Nair 9 MDR1', (0.0, 0, 660)),\n",
       "                           ('Nair 12 MDR1', (0.0, 0, 575)),\n",
       "                           ('Nair 13 MDR1', (0.0, 0, 575)),\n",
       "                           ('Nair 15 MDR1', (0.0, 0, 594)),\n",
       "                           ('Nair B8 MDR1', (0.0, 0, 322)),\n",
       "                           ('Nair DD2 MDR1', (0.0, 0, 250)),\n",
       "                           ('17kb from plasmepsin IV', (0.0, 0, 337)),\n",
       "                           ('80kb from plasmepsin IV', (0.0, 0, 337)),\n",
       "                           ('plasmepsin I to plasmepsin III', (0.0, 0, 289)),\n",
       "                           ('GCH1 promoter', (0.0, 0, 274)),\n",
       "                           ('PfGCH1_dup_1', (0.0, 0, 304)),\n",
       "                           ('PfGCH1_dup_2', (0.0, 0, 294)),\n",
       "                           ('PfGCH1_dup_3', (0.0, 0, 454)),\n",
       "                           ('PfGCH1_dup_4', (0.0, 0, 274)),\n",
       "                           ('PfGCH1_dup_5', (0.0, 0, 435)),\n",
       "                           ('PfGCH1_dup_6', (0.0, 0, 454)),\n",
       "                           ('PfGCH1_dup_7', (0.0, 0, 503)),\n",
       "                           ('PfGCH1_dup_8', (0.021897810218978103, 6, 274)),\n",
       "                           ('PfGCH1_dup_9', (0.0, 0, 304)),\n",
       "                           ('PfGCH1_dup_10', (0.0, 0, 363)),\n",
       "                           ('Nair 1.8kb GCH1', (0.015151515151515152, 9, 594)),\n",
       "                           ('Nair 2.2kb GCH1', (0.019305019305019305, 5, 259)),\n",
       "                           ('Nair 8.7kb GCH1', (0.0, 0, 288)),\n",
       "                           ('Nair 7.2kb GCH1', (0.0, 0, 301)),\n",
       "                           ('SCO1-MED14', (0.0, 0, 284)),\n",
       "                           ('SCO1-MED14-Laos', (0.0, 0, 379)),\n",
       "                           ('COX4-MED14', (0.0, 0, 225)),\n",
       "                           ('HSP110-MED14', (0.0, 0, 269)),\n",
       "                           ('S8e-Cg7', (0.0, 0, 241))])),\n",
       "             ('dup_trpinv_dup',\n",
       "              OrderedDict([('57kb dup-trpinv-dup MDR1 first', (0.0, 0, 332)),\n",
       "                           ('57kb dup-trpinv-dup MDR1 second', (0.0, 0, 572)),\n",
       "                           ('32kb dup-trpinv-dup MDR1 first',\n",
       "                            (0.0032258064516129032, 2, 620)),\n",
       "                           ('32kb dup-trpinv-dup MDR1 second', (0.0, 0, 571)),\n",
       "                           ('50kb dup-trpinv-dup GCH1 first', (0.0, 0, 240)),\n",
       "                           ('50kb dup-trpinv-dup GCH1 second', (0.0, 0, 355)),\n",
       "                           ('42kb dup-trpinv-dup GCH1 first', (0.0, 0, 267)),\n",
       "                           ('42kb dup-trpinv-dup GCH1 second', (0.0, 0, 386)),\n",
       "                           ('5kb dup-trpinv-dup GCH1 first', (0.0, 0, 308)),\n",
       "                           ('5kb dup-trpinv-dup GCH1 second',\n",
       "                            (0.0, 0, 245))]))])"
      ]
     },
     "execution_count": 37,
     "metadata": {},
     "output_type": "execute_result"
    }
   ],
   "source": [
    "# This should be PfMDR1_dup_28\n",
    "genotype_duplications('<INSERT PATH HERE>/c6/QC0129-C/QC0129-C.bam')\n",
    "\n",
    "# ('PfMDR1_dup_28', (0.04804270462633452, 27, 562)) tells us that 27 of 562 reads (4.8%) were faceaway"
   ]
  },
  {
   "cell_type": "code",
   "execution_count": 10,
   "metadata": {
    "tags": []
   },
   "outputs": [],
   "source": [
    "def create_breakpoint_read_counts_file(\n",
    "    sample,\n",
    "    bam_fn,\n",
    "    tandem_dup_breakpoints_fn     = tandem_dup_breakpoints_fn,\n",
    "    dup_trpinv_dup_breakpoints_fn = dup_trpinv_dup_breakpoints_fn,\n",
    "    region_size                   = 600,\n",
    "    region_offset                 = 100,\n",
    "    output_dir                    = output_dir,\n",
    "    overwrite                     = False,\n",
    "):\n",
    "    \n",
    "    if not os.path.exists(output_dir):\n",
    "        os.makedirs(output_dir)\n",
    "        \n",
    "    output_fn = f\"{output_dir}/{sample}.tsv\"\n",
    "    \n",
    "    if os.path.exists(output_fn) and not overwrite:\n",
    "        print(f\"File {output_fn} already exists, exiting\")\n",
    "\n",
    "    else:\n",
    "        fo = open(output_fn, 'w')\n",
    "    \n",
    "        duplication_genotypes = genotype_duplications(bam_fn)\n",
    "\n",
    "        print(\"%s\" % sample, end=\"\", file=fo)\n",
    "        for dup in duplication_genotypes['faceaway']:\n",
    "            results = duplication_genotypes['faceaway'][dup]\n",
    "            print(\"\\t%d\\t%d\" % (results[1], results[2]), end=\"\", file=fo)\n",
    "        for dup in duplication_genotypes['dup_trpinv_dup']:\n",
    "            results = duplication_genotypes['dup_trpinv_dup'][dup]\n",
    "            print(\"\\t%d\\t%d\" % (results[1], results[2]), end=\"\", file=fo)\n",
    "        print(\"\\n\", end=\"\", file=fo)\n",
    "\n",
    "        fo.close()\n",
    "\n",
    "    pass"
   ]
  },
  {
   "cell_type": "markdown",
   "metadata": {},
   "source": [
    "---\n",
    "\n",
    "#### Now with functions defined, let's test them on a few samples"
   ]
  },
  {
   "cell_type": "code",
   "execution_count": null,
   "metadata": {
    "tags": []
   },
   "outputs": [],
   "source": [
    "create_breakpoint_read_counts_file(\n",
    "    sample = 'PH0906-C',\n",
    "    bam_fn = '<INSERT PATH HERE>/74/PH0906-C/PH0906-C.bam',\n",
    ")"
   ]
  },
  {
   "cell_type": "code",
   "execution_count": null,
   "metadata": {
    "tags": []
   },
   "outputs": [],
   "source": [
    "create_breakpoint_read_counts_file(\n",
    "    sample = 'PF0149-C',\n",
    "    bam_fn = '<INSERT PATH HERE>/5e/PF0149-C/PF0149-C.bam',\n",
    ")"
   ]
  },
  {
   "cell_type": "markdown",
   "metadata": {
    "tags": []
   },
   "source": [
    "---\n",
    "\n",
    "# These functions were then added to `create_breakpoint_read_counts_file_20250128.py`\n",
    "\n",
    "---\n",
    "\n",
    "## Now, let's start running the script on all samples"
   ]
  },
  {
   "cell_type": "code",
   "execution_count": 55,
   "metadata": {
    "tags": []
   },
   "outputs": [
    {
     "data": {
      "text/plain": [
       "'<INSERT PATH HERE>/malariagen-pf8-cnv-calling/05_faceaway_calls/run_create_breakpoint_read_counts_file_20250128.sh'"
      ]
     },
     "execution_count": 55,
     "metadata": {},
     "output_type": "execute_result"
    }
   ],
   "source": [
    "job_script_fn"
   ]
  },
  {
   "cell_type": "code",
   "execution_count": 147,
   "metadata": {
    "tags": []
   },
   "outputs": [],
   "source": [
    "# Create the job script file\n",
    "with open(job_script_fn, \"w\") as fo:\n",
    "    fo.write(\"\"\"\n",
    "MANIFEST_FN=$1\n",
    "JOB=$LSB_JOBINDEX\n",
    "\n",
    "IN=$(sed \"$JOB q;d\" $MANIFEST_FN)\n",
    "read -a LINE <<< \"$IN\"\n",
    "SAMPLE=${LINE[0]}\n",
    "BAM_FN=${LINE[1]}\n",
    "\n",
    "echo $SAMPLE\n",
    "echo $BAM_FN\n",
    "\n",
    "\"\"\" + \n",
    "\n",
    "f\"\"\"\n",
    "\n",
    "python3 {py_script_fn} \\\n",
    "    --sample $SAMPLE \\\n",
    "    --bam_fn $BAM_FN \\\n",
    "    --output_dir {output_dir} \\\n",
    "    --tandem_dup_breakpoints_fn {tandem_dup_breakpoints_fn} \\\n",
    "    --dup_trpinv_dup_breakpoints_fn {dup_trpinv_dup_breakpoints_fn}\n",
    "\"\"\")\n"
   ]
  },
  {
   "cell_type": "code",
   "execution_count": 148,
   "metadata": {
    "tags": []
   },
   "outputs": [
    {
     "name": "stdout",
     "output_type": "stream",
     "text": [
      "Number of samples = 24409\n",
      "\n",
      "\n",
      "bsub -J cbrcj_[1-24409] -q normal -o <INSERT PATH HERE>/malariagen-pf8-cnv-calling/05_faceaway_calls/all_samples/create_breakpoint_read_counts_file_logs/output_%J-%I.out -e <INSERT PATH HERE>/malariagen-pf8-cnv-calling/05_faceaway_calls/all_samples/create_breakpoint_read_counts_file_logs/output_%J-%I.err -M 4000 -R'span[hosts=1] select[type==X86_64 && model==Intel_Platinum && mem>4000] rusage[mem=4000]' bash run_create_breakpoint_read_counts_file_20250128.sh pf8_qc_pass_bams_20250128.tsv\n",
      "\n",
      "Job <655385> is submitted to queue <normal>.\n"
     ]
    }
   ],
   "source": [
    "# Submit array job to LSF queue\n",
    "wc_output = !wc -l {pf8_qc_pass_bams_fn}\n",
    "num_samples = int(wc_output[0].split(' ')[0])\n",
    "print(f\"Number of samples = {num_samples}\")\n",
    "print()\n",
    "\n",
    "out_fn = f\"{lustre_dir}/all_samples/create_breakpoint_read_counts_file_logs/output_%J-%I.out\"\n",
    "err_fn = f\"{lustre_dir}/all_samples/create_breakpoint_read_counts_file_logs/output_%J-%I.err\"\n",
    "\n",
    "bsub_command_str = f\"bsub -J cbrcj_[1-{num_samples}] -q normal -o {out_fn} -e {err_fn} -M 4000 -R'span[hosts=1] select[type==X86_64 && model==Intel_Platinum && mem>4000] rusage[mem=4000]' bash {job_script_fn} {pf8_qc_pass_bams_fn}\"\n",
    "\n",
    "print()\n",
    "print(bsub_command_str)\n",
    "print()\n",
    "\n",
    "!{bsub_command_str}"
   ]
  },
  {
   "cell_type": "code",
   "execution_count": 11,
   "metadata": {
    "tags": []
   },
   "outputs": [
    {
     "name": "stdout",
     "output_type": "stream",
     "text": [
      "0\n"
     ]
    }
   ],
   "source": [
    "# How many jobs currently running? Note this was done soon after jobs started\n",
    "!bjobs | grep 655385 | grep RUN | wc -l"
   ]
  },
  {
   "cell_type": "code",
   "execution_count": 12,
   "metadata": {},
   "outputs": [
    {
     "name": "stdout",
     "output_type": "stream",
     "text": [
      "0\n"
     ]
    }
   ],
   "source": [
    "!bjobs | grep 655385 | grep PEND | wc -l"
   ]
  },
  {
   "cell_type": "code",
   "execution_count": 13,
   "metadata": {},
   "outputs": [
    {
     "name": "stdout",
     "output_type": "stream",
     "text": [
      "0\n"
     ]
    }
   ],
   "source": [
    "!bjobs | grep 655385 | grep UNKWN | wc -l"
   ]
  },
  {
   "cell_type": "code",
   "execution_count": 15,
   "metadata": {
    "tags": []
   },
   "outputs": [
    {
     "name": "stdout",
     "output_type": "stream",
     "text": [
      "24409\n"
     ]
    }
   ],
   "source": [
    "# How many outputs?\n",
    "!ls -1 all_samples/*.tsv | wc -l"
   ]
  },
  {
   "cell_type": "markdown",
   "metadata": {},
   "source": [
    "---\n",
    "\n",
    "## Ensure all samples have run by rerunning the cells above until all files have been generated, then concatenate all files into a single file"
   ]
  },
  {
   "cell_type": "code",
   "execution_count": 20,
   "metadata": {
    "tags": []
   },
   "outputs": [
    {
     "name": "stdout",
     "output_type": "stream",
     "text": [
      "CPU times: user 223 ms, sys: 45.6 ms, total: 269 ms\n",
      "Wall time: 25.8 s\n"
     ]
    }
   ],
   "source": [
    "%%time\n",
    "!cat all_samples/*.tsv > breakpoint_read_counts_noheader_{todays_date}.tsv"
   ]
  },
  {
   "cell_type": "code",
   "execution_count": 24,
   "metadata": {
    "tags": []
   },
   "outputs": [
    {
     "name": "stdout",
     "output_type": "stream",
     "text": [
      "24409 <INSERT PATH HERE>/malariagen-pf8-cnv-calling/05_faceaway_calls/breakpoint_read_counts_noheader_20250128.tsv\n",
      "\n",
      "FP0008-C\t0\t101\t0\t360\t0\t168\t0\t210\t0\t210\t0\t159\t0\t210\t0\t73\t0\t213\t0\t309\t0\t108\t0\t196\t0\t151\t0\t151\t0\t123\t0\t140\t0\t123\t0\t210\t0\t210\t0\t151\t0\t123\t0\t145\t0\t118\t0\t42\t0\t101\t0\t210\t0\t185\t0\t123\t0\t141\t0\t139\t0\t127\t0\t209\t0\t209\t0\t113\t0\t209\t0\t166\t0\t147\t0\t209\t0\t209\t0\t186\t0\t191\t0\t110\t0\t319\t0\t319\t0\t282\t0\t77\t0\t238\t0\t191\t0\t370\t0\t161\t0\t291\t0\t370\t0\t185\t0\t77\t0\t238\t0\t269\t0\t214\t0\t81\t0\t143\t0\t233\t0\t114\t0\t263\t0\t91\t0\t127\t0\t38\t0\t256\t0\t237\t0\t140\t0\t238\t0\t61\t0\t172\t0\t152\t0\t206\t0\t227\t0\t61\n",
      "FP0009-C\t0\t311\t0\t1334\t0\t531\t0\t572\t0\t572\t0\t514\t0\t572\t0\t236\t0\t837\t0\t1118\t0\t458\t0\t621\t0\t575\t0\t575\t0\t505\t0\t541\t0\t505\t0\t572\t0\t572\t0\t575\t0\t505\t0\t570\t0\t497\t0\t141\t0\t311\t0\t572\t0\t551\t0\t505\t0\t555\t0\t530\t0\t502\t0\t570\t0\t570\t0\t488\t0\t570\t0\t537\t0\t578\t0\t570\t0\t570\t0\t763\t0\t606\t0\t458\t0\t1027\t0\t1027\t0\t989\t0\t246\t0\t836\t0\t593\t0\t1240\t0\t668\t0\t1250\t0\t1240\t0\t604\t0\t246\t0\t836\t0\t905\t0\t765\t0\t235\t0\t452\t0\t813\t0\t357\t0\t803\t0\t314\t0\t433\t0\t183\t0\t989\t0\t1016\t0\t531\t0\t1010\t0\t242\t0\t573\t0\t418\t0\t647\t0\t899\t0\t150\n"
     ]
    }
   ],
   "source": [
    "!wc -l breakpoint_read_counts_noheader_{todays_date}.tsv\n",
    "\n",
    "print()\n",
    "\n",
    "!head -n 2 breakpoint_read_counts_noheader_{todays_date}.tsv"
   ]
  },
  {
   "cell_type": "code",
   "execution_count": null,
   "metadata": {
    "tags": []
   },
   "outputs": [],
   "source": [
    "# Saving a file which stores the column names\n",
    "with open(f\"breakpoint_read_counts_header_{todays_date}.tsv\", 'w') as fo:\n",
    "    header_line = \"Sample\"\n",
    "    \n",
    "    for breakpoint_name in etl.fromtsv(tandem_dup_breakpoints_fn).values('breakpoint_id'):\n",
    "        header_line += \"\\t%s faceaways\\t%s read pairs\" % (breakpoint_name, breakpoint_name)\n",
    "        \n",
    "    for breakpoint_name in etl.fromtsv(dup_trpinv_dup_breakpoints_fn).values('breakpoint_id'):\n",
    "        header_line += \"\\t%s same directions first\\t%s read pairs first\\t%s same directions second\\t%s read pairs second\" % (breakpoint_name, breakpoint_name, breakpoint_name, breakpoint_name)\n",
    "\n",
    "    print(header_line, file=fo)"
   ]
  },
  {
   "cell_type": "code",
   "execution_count": null,
   "metadata": {
    "tags": []
   },
   "outputs": [],
   "source": [
    "# Combine columns files and file containing data to produce final file\n",
    "!cat breakpoint_read_counts_header_{todays_date}.tsv breakpoint_read_counts_noheader_{todays_date}.tsv > {breakpoint_read_counts_fn}"
   ]
  },
  {
   "cell_type": "code",
   "execution_count": null,
   "metadata": {
    "tags": []
   },
   "outputs": [
    {
     "name": "stdout",
     "output_type": "stream",
     "text": [
      "24410 breakpoint_read_counts_20250128.tsv\n",
      "\n",
      "Sample\tPfMDR1_dup_1 faceaways\tPfMDR1_dup_1 read pairs\tPfMDR1_dup_2 faceaways\tPfMDR1_dup_2 read pairs\tPfMDR1_dup_3 faceaways\tPfMDR1_dup_3 read pairs\tPfMDR1_dup_4 faceaways\tPfMDR1_dup_4 read pairs\tPfMDR1_dup_5 faceaways\tPfMDR1_dup_5 read pairs\tPfMDR1_dup_6 faceaways\tPfMDR1_dup_6 read pairs\tPfMDR1_dup_7 faceaways\tPfMDR1_dup_7 read pairs\tPfMDR1_dup_8 faceaways\tPfMDR1_dup_8 read pairs\tPfMDR1_dup_9 faceaways\tPfMDR1_dup_9 read pairs\tPfMDR1_dup_10 faceaways\tPfMDR1_dup_10 read pairs\tPfMDR1_dup_11 faceaways\tPfMDR1_dup_11 read pairs\tPfMDR1_dup_12 faceaways\tPfMDR1_dup_12 read pairs\tPfMDR1_dup_13 faceaways\tPfMDR1_dup_13 read pairs\tPfMDR1_dup_14 faceaways\tPfMDR1_dup_14 read pairs\tPfMDR1_dup_15 faceaways\tPfMDR1_dup_15 read pairs\tPfMDR1_dup_16 faceaways\tPfMDR1_dup_16 read pairs\tPfMDR1_dup_17 faceaways\tPfMDR1_dup_17 read pairs\tPfMDR1_dup_18 faceaways\tPfMDR1_dup_18 read pairs\tPfMDR1_dup_19 faceaways\tPfMDR1_dup_19 read pairs\tPfMDR1_dup_20 faceaways\tPfMDR1_dup_20 read pairs\tPfMDR1_dup_21 faceaways\tPfMDR1_dup_21 read pairs\tPfMDR1_dup_22 faceaways\tPfMDR1_dup_22 read pairs\tPfMDR1_dup_23 faceaways\tPfMDR1_dup_23 read pairs\tPfMDR1_dup_24 faceaways\tPfMDR1_dup_24 read pairs\tPfMDR1_dup_25 faceaways\tPfMDR1_dup_25 read pairs\tPfMDR1_dup_26 faceaways\tPfMDR1_dup_26 read pairs\tPfMDR1_dup_27 faceaways\tPfMDR1_dup_27 read pairs\tPfMDR1_dup_28 faceaways\tPfMDR1_dup_28 read pairs\tPfMDR1_Nair_1 faceaways\tPfMDR1_Nair_1 read pairs\tPfMDR1_Nair_2 faceaways\tPfMDR1_Nair_2 read pairs\tPfMDR1_Nair_3 faceaways\tPfMDR1_Nair_3 read pairs\tPfMDR1_Nair_4 faceaways\tPfMDR1_Nair_4 read pairs\tPfMDR1_Nair_5 faceaways\tPfMDR1_Nair_5 read pairs\tPfMDR1_Nair_6 faceaways\tPfMDR1_Nair_6 read pairs\tPfMDR1_Nair_7 faceaways\tPfMDR1_Nair_7 read pairs\tPfMDR1_Nair_8 faceaways\tPfMDR1_Nair_8 read pairs\tPfMDR1_Nair_9 faceaways\tPfMDR1_Nair_9 read pairs\tPfMDR1_Nair_12 faceaways\tPfMDR1_Nair_12 read pairs\tPfMDR1_Nair_13 faceaways\tPfMDR1_Nair_13 read pairs\tPfMDR1_Nair_15 faceaways\tPfMDR1_Nair_15 read pairs\tPfMDR1_Nair_B8 faceaways\tPfMDR1_Nair_B8 read pairs\tPfMDR1_Nair_DD2 faceaways\tPfMDR1_Nair_DD2 read pairs\tPfPlasmepsin_2 faceaways\tPfPlasmepsin_2 read pairs\tPfPlasmepsin_3 faceaways\tPfPlasmepsin_3 read pairs\tPfPlasmepsin_1 faceaways\tPfPlasmepsin_1 read pairs\tPfGCH1_promoter_dup_1 faceaways\tPfGCH1_promoter_dup_1 read pairs\tPfGCH1_dup_1 faceaways\tPfGCH1_dup_1 read pairs\tPfGCH1_dup_2 faceaways\tPfGCH1_dup_2 read pairs\tPfGCH1_dup_3 faceaways\tPfGCH1_dup_3 read pairs\tPfGCH1_dup_4 faceaways\tPfGCH1_dup_4 read pairs\tPfGCH1_dup_5 faceaways\tPfGCH1_dup_5 read pairs\tPfGCH1_dup_6 faceaways\tPfGCH1_dup_6 read pairs\tPfGCH1_dup_7 faceaways\tPfGCH1_dup_7 read pairs\tPfGCH1_dup_8 faceaways\tPfGCH1_dup_8 read pairs\tPfGCH1_dup_9 faceaways\tPfGCH1_dup_9 read pairs\tPfGCH1_dup_10 faceaways\tPfGCH1_dup_10 read pairs\tPfGCH1_Nair_1 faceaways\tPfGCH1_Nair_1 read pairs\tPfGCH1_Nair_2 faceaways\tPfGCH1_Nair_2 read pairs\tPfGCH1_Nair_3 faceaways\tPfGCH1_Nair_3 read pairs\tPfGCH1_Nair_4 faceaways\tPfGCH1_Nair_4 read pairs\tCRT_dup_1 faceaways\tCRT_dup_1 read pairs\tCRT_dup_2 faceaways\tCRT_dup_2 read pairs\tCRT_dup_3 faceaways\tCRT_dup_3 read pairs\tCRT_dup_4 faceaways\tCRT_dup_4 read pairs\tCRT_dup_5 faceaways\tCRT_dup_5 read pairs\tPfMDR1_DTD_1 same directions first\tPfMDR1_DTD_1 read pairs first\tPfMDR1_DTD_1 same directions second\tPfMDR1_DTD_1 read pairs second\tPfMDR1_DTD_2 same directions first\tPfMDR1_DTD_2 read pairs first\tPfMDR1_DTD_2 same directions second\tPfMDR1_DTD_2 read pairs second\tPfGCH1_DTD_1 same directions first\tPfGCH1_DTD_1 read pairs first\tPfGCH1_DTD_1 same directions second\tPfGCH1_DTD_1 read pairs second\tPfGCH1_DTD_2 same directions first\tPfGCH1_DTD_2 read pairs first\tPfGCH1_DTD_2 same directions second\tPfGCH1_DTD_2 read pairs second\tPfGCH1_DTD_3 same directions first\tPfGCH1_DTD_3 read pairs first\tPfGCH1_DTD_3 same directions second\tPfGCH1_DTD_3 read pairs second\n",
      "FP0008-C\t0\t101\t0\t360\t0\t168\t0\t210\t0\t210\t0\t159\t0\t210\t0\t73\t0\t213\t0\t309\t0\t108\t0\t196\t0\t151\t0\t151\t0\t123\t0\t140\t0\t123\t0\t210\t0\t210\t0\t151\t0\t123\t0\t145\t0\t118\t0\t42\t0\t101\t0\t210\t0\t185\t0\t123\t0\t141\t0\t139\t0\t127\t0\t209\t0\t209\t0\t113\t0\t209\t0\t166\t0\t147\t0\t209\t0\t209\t0\t186\t0\t191\t0\t110\t0\t319\t0\t319\t0\t282\t0\t77\t0\t238\t0\t191\t0\t370\t0\t161\t0\t291\t0\t370\t0\t185\t0\t77\t0\t238\t0\t269\t0\t214\t0\t81\t0\t143\t0\t233\t0\t114\t0\t263\t0\t91\t0\t127\t0\t38\t0\t256\t0\t237\t0\t140\t0\t238\t0\t61\t0\t172\t0\t152\t0\t206\t0\t227\t0\t61\n"
     ]
    }
   ],
   "source": [
    "# Sanity check\n",
    "!wc -l {breakpoint_read_counts_fn}\n",
    "\n",
    "print()\n",
    "\n",
    "!head -n 2 {breakpoint_read_counts_fn}"
   ]
  },
  {
   "cell_type": "markdown",
   "metadata": {},
   "source": [
    "# Conclusions\n",
    "\n",
    "Here I have created what should be the final breakpoint read counts for Pf8"
   ]
  }
 ],
 "metadata": {
  "anaconda-cloud": {},
  "kernelspec": {
   "display_name": "Python 3 (ipykernel)",
   "language": "python",
   "name": "python3"
  },
  "language_info": {
   "codemirror_mode": {
    "name": "ipython",
    "version": 3
   },
   "file_extension": ".py",
   "mimetype": "text/x-python",
   "name": "python",
   "nbconvert_exporter": "python",
   "pygments_lexer": "ipython3",
   "version": "3.11.10"
  }
 },
 "nbformat": 4,
 "nbformat_minor": 4
}
