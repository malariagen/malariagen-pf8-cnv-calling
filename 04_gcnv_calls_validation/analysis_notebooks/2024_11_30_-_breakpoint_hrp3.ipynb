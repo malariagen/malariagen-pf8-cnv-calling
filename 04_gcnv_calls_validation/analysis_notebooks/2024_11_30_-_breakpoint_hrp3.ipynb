{
 "cells": [
  {
   "cell_type": "markdown",
   "id": "29b76e21-429d-4ee5-9f31-e68a705d8338",
   "metadata": {},
   "source": [
    "# HRP3 manual investigation\n",
    "\n",
    "## Please read before continuing. You may have to use `gen3` to run IGV. \n",
    "\n",
    "#### This notebook was created to examine any new HRP3 deletions (either because the sample was new to Pf8 or because it was called as something else for Pf7). \n",
    "\n",
    "The first cell will initialise some key functions and show you some metadata on HRP3-deleted samples from Pf7, as well as the HRP deletion figure from the Pf7 paper. \n",
    "\n",
    "The subsequent cells represent individual analyses, and will usually consist of:\n",
    "\n",
    "- a `print` statement which describes the nature of the sample, my analysis, and my verdict,\n",
    "- a `plot_cnv_diagnostic` function, which shows you the corresponding CNV diagnostic plot,\n",
    "- and an `igv` function, which shows you the IGV browser, usually pointing you to custom coordinates that are relevant to the analysis. \n",
    "\n",
    "Please take a look at the analyses and let me know if you disagree with anything or want to discuss something with me. I strongly suggest you right-click and `Clear cell output` once you are done with individual analyses. "
   ]
  },
  {
   "cell_type": "code",
   "execution_count": null,
   "id": "78206952-62e4-49b6-b2f5-b106027c9c04",
   "metadata": {
    "scrolled": true
   },
   "outputs": [],
   "source": [
    "import igv_notebook\n",
    "import pandas as pd\n",
    "\n",
    "from IPython.display import Image, display\n",
    "\n",
    "def plot_cnv_diagnostic(sample, gene):\n",
    "    display(Image(filename = f\"<INSERT PATH HERE>/malariagen-pf8-cnv-calling//04_gcnv_calls_validation/results/{gene}/{sample}/plot.png\"))\n",
    "\n",
    "def igv(sample, locus):\n",
    "    REF = \"<INSERT PATH HERE>/resource-bundle/PlasmoDB-54_Pfalciparum3D7_Genome.fasta\"\n",
    "    GFF = \"<INSERT PATH HERE>/resource-bundle/snpEff/data/Pfalciparum3D7_PlasmoDB_55/PlasmoDB-55_Pfalciparum3D7.gff\"\n",
    "    meta = pd.read_csv(\"../../assets_pf8/01_paths_to_bams.tsv\", sep = \"\\t\", names = [\"SAMPLE\", \"PATH\"])\n",
    "\n",
    "    assert sample in meta.SAMPLE.tolist()\n",
    "\n",
    "    path_to_bam = meta.loc[meta.SAMPLE == sample, \"PATH\"].values[0]\n",
    "    \n",
    "    igv_notebook.init()\n",
    "    \n",
    "    b = igv_notebook.Browser({\n",
    "        \"reference\": {\n",
    "            \"name\": \"Plasmodium falciparum (3D7)\",\n",
    "            \"fastaPath\": REF,\n",
    "            \"indexed\": False\n",
    "        },\n",
    "        \"locus\": locus\n",
    "    })\n",
    "    \n",
    "    b.load_track({\n",
    "        \"name\": \"genes\",\n",
    "        \"type\": \"annotation\",\n",
    "        \"format\": \"gff3\",\n",
    "        \"path\": GFF,\n",
    "        \"displayMode\": \"COLLAPSED\",\n",
    "    })\n",
    "    \n",
    "    b.load_track({\n",
    "        \"path\": path_to_bam,\n",
    "        \"indexPath\": path_to_bam + \".bai\",\n",
    "        \"format\": \"bam\",\n",
    "        \"type\": \"alignment\",\n",
    "        \"displayMode\": \"EXPANDED\",\n",
    "        \"height\": 800,\n",
    "        \"squishedRowHeight\": 5,\n",
    "        \"viewAsPairs\": \"true\",\n",
    "        \"showSoftClips\": \"true\"\n",
    "    })\n",
    "\n",
    "display(Image(url = \"https://cdn.ncbi.nlm.nih.gov/pmc/blobs/f4e4/9971654/c2bf7ea4a9e7/wellcomeopenres-8-20716-g0004.jpg\"))\n",
    "\n",
    "df = pd.read_csv(\"hrp_calls_pf7.tsv\", sep = \"\\t\")\n",
    "meta = pd.read_csv(\"../../assets_pf8/Pf_8_samples_20241212.txt\", sep = \"\\t\", usecols = [\"Sample\", \"Study\", \"Country\", \"Year\"])\n",
    "meta.Year = meta.Year.fillna(-1).astype(int)\n",
    "\n",
    "pd.set_option(\"display.max.rows\", None)\n",
    "df.loc[df.HRP3_breakpoint != \"-\", [\"Sample\", \"HRP3_breakpoint\", \"HRP3_deletion_type\"]].reset_index(drop = True).merge(meta, on = \"Sample\")"
   ]
  },
  {
   "cell_type": "code",
   "execution_count": null,
   "id": "6d8565a4-ba6a-42f0-9827-e898d2e86770",
   "metadata": {},
   "outputs": [],
   "source": [
    "print(\"Example 1: Confirmed Pf7 example of chromosome 11 recombination from Peru, 2009. Left breakpoint has XA=chromosome 11 and has coords 2,806,840\")\n",
    "plot_cnv_diagnostic(\"PP0029-C\", \"HRP3\")\n",
    "igv(\"PP0029-C\", \"Pf3D7_13_v3:2,806,781-2,806,917\")"
   ]
  },
  {
   "cell_type": "code",
   "execution_count": null,
   "id": "b333ea04-0e35-4ece-b18f-593a9f514921",
   "metadata": {},
   "outputs": [],
   "source": [
    "print(\"Example 2: Confirmed Pf7 example of telomere healing from Cambodia, 2009. GGGTTCA - telomere repeat\")\n",
    "print('From Richard: ...I think the mates always map to a telomeric sequence, though which one is somewhat random, which is probably to be expected as the telomeric sequences at each end of each chromosome are essentially identical. This means that when looking for telomere healing events like those around hrp genes we could look for mates mapping to telomeres in addition to \"split reads\" containing telomeric sequence. You can see some such reads in the IGV plot which end before the breakpoint but for which the mate is in a telomere. A few years ago we were working with someone called Fai who was doing a more comprehensive analysis of telomere healing events, but never finished the work before moving on to a different job.')\n",
    "plot_cnv_diagnostic(\"PH1616-C\", \"HRP3\")\n",
    "igv(\"PH1616-C\", \"Pf3D7_13_v3:2,837,329-2,837,492\")"
   ]
  },
  {
   "cell_type": "code",
   "execution_count": null,
   "id": "6c40a1b6-c187-4f6b-ac5a-9c6b3e12a54c",
   "metadata": {},
   "outputs": [],
   "source": [
    "print(\"Example 3: Confirmed Pf7 example of chromosome 5 recombination, 2009\")\n",
    "plot_cnv_diagnostic(\"PH0959-Cx\", \"HRP3\")\n",
    "igv(\"PH0959-Cx\", \"Pf3D7_13_v3:2,835,143-2,835,982\")"
   ]
  },
  {
   "cell_type": "markdown",
   "id": "50564d79-e7f8-4091-8c70-0b58631d60d1",
   "metadata": {},
   "source": [
    "---\n",
    "# Pf7 samples that may require revisiting"
   ]
  },
  {
   "cell_type": "code",
   "execution_count": null,
   "id": "7a270ad8-7508-4bbb-b471-7f4072a473a1",
   "metadata": {},
   "outputs": [],
   "source": [
    "print(\"Figure 1: Pf7 uncallable. Pf8 potentially del? Breakpoint different to Example 1, but lots of XA and Mate chromosomes point to chromosome 11 at left breakpoint. Left breakpoint coords are 2,807,173. Right breakpoint points to chromosome 4? Need help calling this. Calling as GT=1 for now. \")\n",
    "plot_cnv_diagnostic(\"SPT16994\", \"HRP3\")\n",
    "igv(\"SPT16994\", \"Pf3D7_13_v3:2,807,067-2,807,340\")"
   ]
  },
  {
   "cell_type": "code",
   "execution_count": null,
   "id": "21af339f-9459-44c3-8c5f-361ab5fade62",
   "metadata": {},
   "outputs": [],
   "source": [
    "print(\"Figure 2: Pf7 uncallable. Pf8 potentially del? Telomere healing. GGGTTCA - telomere repeat. Pretty happy for this to be called as GT=1 personally. Coords 2,837,144\")\n",
    "plot_cnv_diagnostic(\"PV0132-C\", \"HRP3\")\n",
    "igv(\"PV0132-C\", \"Pf3D7_13_v3:2,836,863-2,837,411\")"
   ]
  },
  {
   "cell_type": "code",
   "execution_count": null,
   "id": "0a36d4c1-dd53-44e8-8c20-ca9783d69691",
   "metadata": {},
   "outputs": [],
   "source": [
    "print(\"Figure 3: Pf7 uncallable. Pf8 potentially del? Quite a clear stretch of near-zero coverage. Lots of F1F2 pair orientation reads on the left breakpoint. Not sure if that indicates something in particular. Lots of junk reads at the right breakpoint. Will call -1 for now. \")\n",
    "plot_cnv_diagnostic(\"RCN02146\", \"HRP3\")\n",
    "igv(\"RCN02146\", \"Pf3D7_13_v3:2,830,001-2,832,197\")\n",
    "igv(\"RCN02146\", \"Pf3D7_13_v3:2,844,941-2,845,854\")"
   ]
  },
  {
   "cell_type": "code",
   "execution_count": null,
   "id": "083f0602-048a-4ecb-a505-3a26badd12f8",
   "metadata": {},
   "outputs": [],
   "source": [
    "print(\"Figure 4: Pf7 uncallable. Pf8 potentially del? Same comments as Figure 3. Will call -1 for now. \")\n",
    "plot_cnv_diagnostic(\"SPT35228\", \"HRP3\")\n",
    "igv(\"SPT35228\", \"Pf3D7_13_v3:2,830,001-2,832,197\")\n",
    "igv(\"SPT35228\", \"Pf3D7_13_v3:2,844,941-2,845,854\")"
   ]
  },
  {
   "cell_type": "code",
   "execution_count": null,
   "id": "d353423a-2802-4bce-ac59-ea65daa77ae4",
   "metadata": {},
   "outputs": [],
   "source": [
    "print(\"Figure 5: Pf7 uncallable. Pf8 potentially del? Left breakpoint somewhat similar to Figure 1, but seemingly no right breakpoint. Left breakpoint's XA points to chromosome 11. Calling as GT=1 for now. Coords 2,807,399 which are different to Figure 1's. A little worried about the low complexity region here BUT I think it would have enough complexity towards the 5' end for this to be real. \")\n",
    "plot_cnv_diagnostic(\"SPT38537\", \"HRP3\")\n",
    "igv(\"SPT38537\", \"Pf3D7_13_v3:2,807,007-2,807,799\")"
   ]
  },
  {
   "cell_type": "code",
   "execution_count": null,
   "id": "9d02dc77-c446-4d08-aabf-01fe4d0626fd",
   "metadata": {},
   "outputs": [],
   "source": [
    "print(\"Figure 6: Pf7 uncallable. Pf8 potentially del? Lots of XA values point to chromosome 11. Calling as GT=1 for now. Same exact left breakpoint as Figure 5: 2,807,399\")\n",
    "plot_cnv_diagnostic(\"SPT34382\", \"HRP3\")\n",
    "igv(\"SPT34382\", \"Pf3D7_13_v3:2,806,832-2,807,943\")"
   ]
  },
  {
   "cell_type": "markdown",
   "id": "7cc2a3f4-2d6c-4dd6-b080-49dfb500f4a4",
   "metadata": {},
   "source": [
    "---\n",
    "# New to Pf8"
   ]
  },
  {
   "cell_type": "code",
   "execution_count": null,
   "id": "6424e124-5fcd-435b-b9c4-5433f610de5a",
   "metadata": {},
   "outputs": [],
   "source": [
    "print(\"Figure 7: New to Pf8. Telomere healing. GGGTTCA detected. Breakpoint: 2,835,899. Calling as GT=1\")\n",
    "plot_cnv_diagnostic(\"SPT43994\", \"HRP3\")\n",
    "igv(\"SPT43994\", \"Pf3D7_13_v3:2,835,645-2,836,252\")"
   ]
  },
  {
   "cell_type": "code",
   "execution_count": null,
   "id": "339bd8be-3e4d-4fde-a386-82d76cffade0",
   "metadata": {},
   "outputs": [],
   "source": [
    "print(\"Figure 8: New to Pf8. Chromosome 11 recombination. Supplementary alignments to chromosome 11. Breakpoint: 2,807,296, but the exact coords of this one are likely unreliable. It's different to the other coords and only one read with soft clips. Calling as GT=1\")\n",
    "plot_cnv_diagnostic(\"RCN15335\", \"HRP3\")\n",
    "igv(\"RCN15335\", \"Pf3D7_13_v3:2,806,832-2,807,943\")"
   ]
  },
  {
   "cell_type": "code",
   "execution_count": null,
   "id": "ca767fc0-1269-40ca-9e5e-d704ac37e224",
   "metadata": {},
   "outputs": [],
   "source": [
    "print(\"Figure 8: New to Pf8. Chromosome 11 recombination. Supplementary alignments to chromosome 11. Breakpoint: 2,807,399. Calling as GT=1\")\n",
    "plot_cnv_diagnostic(\"RCN14910\", \"HRP3\")\n",
    "igv(\"RCN14910\", \"Pf3D7_13_v3:2,806,832-2,807,943\")"
   ]
  },
  {
   "cell_type": "code",
   "execution_count": null,
   "id": "35b4443c-c662-4018-b993-84b336f446a7",
   "metadata": {},
   "outputs": [],
   "source": [
    "print(\"Figure 9: New to Pf8. Telomere healing. GGGTTCA detected. One clean read with the telomere repeat sequence and one dodgy read. Calling as GT=1. Note that this sample breaks the paradigm about how we shouldn't trust samples with copy number gradually decreasing. This is however in a very repetitive part of HRP3 - note that the amino acid sequence has HA[G/D]DH repeats. This feels a bit riskier than some of the other calls. breakpoint: 2,840,859\")\n",
    "plot_cnv_diagnostic(\"SPT83055\", \"HRP3\")\n",
    "igv(\"SPT83055\", \"Pf3D7_13_v3:2,840,672-2,841,155\")"
   ]
  },
  {
   "cell_type": "code",
   "execution_count": null,
   "id": "8e6356fa-4978-4130-a7a5-a73627e2f81b",
   "metadata": {},
   "outputs": [],
   "source": [
    "print(\"Figure 10: New to Pf8. Telomere healing. GGGTTCA detected. Very similar to Figure 9. Just one read of evidence though. Would suggest calling as GT=1, breakpoint 2,840,825\")\n",
    "plot_cnv_diagnostic(\"SPT83047\", \"HRP3\")\n",
    "igv(\"SPT83047\", \"Pf3D7_13_v3:2,840,672-2,841,155\")"
   ]
  },
  {
   "cell_type": "code",
   "execution_count": null,
   "id": "1ca91531-0cb0-4e68-be20-fe173f59c1f3",
   "metadata": {},
   "outputs": [],
   "source": [
    "print(\"Figure 11: New to Pf8. I will mark this as GT=1 for now, but read pair evidence is a bit weak. Maybe two reads that point to chromosome 11. Breakpoint at the usual 2,807,399 coords.\")\n",
    "plot_cnv_diagnostic(\"RCN15215\", \"HRP3\")\n",
    "igv(\"RCN15215\", \"Pf3D7_13_v3:2,807,252-2,807,572\")"
   ]
  },
  {
   "cell_type": "code",
   "execution_count": null,
   "id": "40a8cfd2-099b-45a5-bcc0-96140619308d",
   "metadata": {},
   "outputs": [],
   "source": [
    "print(\"Figure 12: New to Pf8. I will mark this as GT=1 for now, but similar to Figure 11, read pair evidence is a bit weak. Maybe an abundance of reads nearby that point to chromosome 11? \")\n",
    "plot_cnv_diagnostic(\"SPT83039\", \"HRP3\")\n",
    "igv(\"SPT83039\", \"Pf3D7_13_v3:2,807,252-2,807,572\")"
   ]
  },
  {
   "cell_type": "code",
   "execution_count": null,
   "id": "38568021-f763-4cb2-b614-fb42cbe38348",
   "metadata": {},
   "outputs": [],
   "source": [
    "print(\"Figure 13: New to Pf8. I will mark this as GT=1 for now, but again, read pair evidence is weak. Maybe an abundance of reads nearby that point to chromosome 11? A little similar to Figure 1\")\n",
    "plot_cnv_diagnostic(\"SPT83076\", \"HRP3\")\n",
    "igv(\"SPT83076\", \"Pf3D7_13_v3:2,806,832-2,807,943\")"
   ]
  },
  {
   "cell_type": "code",
   "execution_count": null,
   "id": "785f4a2f-4d0c-402d-9c29-2ebdc2e74bac",
   "metadata": {},
   "outputs": [],
   "source": [
    "print(\"Figure 14: Same comments as Figure 13 above. Calling GT=1\")\n",
    "plot_cnv_diagnostic(\"RCN15202\", \"HRP3\")\n",
    "igv(\"RCN15202\", \"Pf3D7_13_v3:2,806,832-2,807,943\")"
   ]
  },
  {
   "cell_type": "code",
   "execution_count": null,
   "id": "3f535ab0-b925-4456-b62c-8493dc8c5742",
   "metadata": {},
   "outputs": [],
   "source": [
    "print(\"Figure 15: Same comments as Figure 13 and 14 above. Calling GT=1\")\n",
    "plot_cnv_diagnostic(\"RCN15231\", \"HRP3\")\n",
    "igv(\"RCN15231\", \"Pf3D7_13_v3:2,806,832-2,807,943\")"
   ]
  },
  {
   "cell_type": "code",
   "execution_count": null,
   "id": "bcfaa62a-9c05-4e9c-8095-2b13f7b44eb0",
   "metadata": {},
   "outputs": [],
   "source": [
    "print(\"Figure 16: Breakpoint 2,807,399. Calling as GT=1\")\n",
    "plot_cnv_diagnostic(\"SPT83051\", \"HRP3\")\n",
    "igv(\"SPT83051\", \"Pf3D7_13_v3:2,806,832-2,807,943\")"
   ]
  },
  {
   "cell_type": "code",
   "execution_count": null,
   "id": "a5e9fe17-abe6-4d86-aeb6-56ca75db7818",
   "metadata": {},
   "outputs": [],
   "source": [
    "print(\"Figure 17: Breakpoint 2,807,399. Calling as GT=1\")\n",
    "plot_cnv_diagnostic(\"SPT83074\", \"HRP3\")\n",
    "igv(\"SPT83074\", \"Pf3D7_13_v3:2,806,832-2,807,943\")"
   ]
  },
  {
   "cell_type": "code",
   "execution_count": null,
   "id": "c13070a1-9361-4895-84b4-d567175507b3",
   "metadata": {},
   "outputs": [],
   "source": [
    "print(\"Figure 18: Breakpoint 2,807,399. Calling as GT=1\")\n",
    "plot_cnv_diagnostic(\"SPT50714\", \"HRP3\")\n",
    "igv(\"SPT50714\", \"Pf3D7_13_v3:2,806,832-2,807,943\")"
   ]
  },
  {
   "cell_type": "markdown",
   "id": "2a6a2083-ab2a-49d1-80b6-717543c48579",
   "metadata": {},
   "source": [
    "---\n",
    "---\n",
    "---\n",
    "\n",
    "# Given that Pf8 has no new hrp2 deletions (see the other notebook - `2024_12_01_-_breakpoint_hrp2.ipynb`), I will simply make the hrp breakpoints file in this notebook below:"
   ]
  },
  {
   "cell_type": "code",
   "execution_count": null,
   "id": "38189e7f-8e54-4c68-90cf-1440df8ca8e9",
   "metadata": {},
   "outputs": [],
   "source": [
    "# loading old Pf7 hrp breakpoints file\n",
    "pf7_hrp = pd.read_csv(\"hrp_calls_pf7.tsv\", sep = \"\\t\")\n",
    "\n",
    "# loading QC pass Pf8 samples\n",
    "pf8_meta = pd.read_csv(\"../../assets_pf8/Pf_8_samples_20241212.txt\", sep = \"\\t\", usecols = [\"Sample\", \"QC pass\"])\n",
    "pf8_meta = pf8_meta.loc[pf8_meta[\"QC pass\"] == True, \"Sample\"].to_frame()\n",
    "\n",
    "# loading HRP3-deleted samples in Pf8\n",
    "pf8_cnv = (\n",
    "    pd.read_csv(\"../../04_gcnv_calls_validation/2024_12_02_pf8_coverage_calls.tsv\",\n",
    "                sep = \"\\t\",\n",
    "                usecols = [\"SAMPLE\", \"HRP2\", \"HRP3\"])\n",
    "    .rename(columns = {\"SAMPLE\": \"Sample\", \"HRP3\": \"Pf8 HRP3\", \"HRP2\": \"Pf8 HRP2\"})\n",
    ")\n",
    "\n",
    "# merging all together\n",
    "pf8_hrp = pf8_meta.merge(pf7_hrp, on = \"Sample\", how = \"left\").merge(pf8_cnv, on = \"Sample\", how = \"left\")"
   ]
  },
  {
   "cell_type": "code",
   "execution_count": null,
   "id": "cd124211-9ad6-4d19-940c-6389a30746b4",
   "metadata": {},
   "outputs": [],
   "source": [
    "print(\"1. Distribution of HRP3 GT calls in Pf8:\")\n",
    "print(pf8_cnv[\"Pf8 HRP3\"].value_counts().to_dict())\n",
    "print()\n",
    "\n",
    "print(\"2. Distribution of HRP3 GT calls in Pf7:\")\n",
    "print(pf7_hrp.HRP3.value_counts().to_dict())\n",
    "print()\n",
    "\n",
    "# just double-checking I haven't lost any deletions\n",
    "print(\"3. Distribution of combinations of old and new GTs:\")\n",
    "print(pf8_hrp[[\"HRP3\", \"Pf8 HRP3\"]].fillna(\"new to pf8\").value_counts())\n",
    "\n",
    "# 198 + 13 + 5 = 255, which is the number we're looking for. \n",
    "\n",
    "# However, Pf7 had 201 HRP3-deleted samples. Here, there are 198 samples with the [del, 1] combination. Where did the three samples go?"
   ]
  },
  {
   "cell_type": "markdown",
   "id": "e7975582-c0a9-45bf-92fc-f5ce5a553e18",
   "metadata": {},
   "source": [
    "# Analysing the above\n",
    "\n",
    "Firstly, we're expecting 215 samples to have deletions based on Excerpt 1. Looking at Excerpt 3, it's good to not see any worrying signs, such as samples that have the combination (nodel, 1) or (del, 0), for example, as that would imply a change from 1 to 0 or vice versa, between Pf7 and Pf8. \n",
    "\n",
    "If we focus on the last three rows of Excerpt 3, we see combinations: \n",
    "- (del, 1) : samples that were called as del in Pf7 and Pf8\n",
    "- (new to pf8, 1) : samples that are new to Pf8 and are HRP3-deleted\n",
    "- (uncallable, 1) : samples that were previous called as -1 in Pf7 but are now 1\n",
    "\n",
    "These sample numbers sum to 215, which is the same from Excerpt 1, so nothing catastrophic going on here. \n",
    "\n",
    "Next, Excerpt 2 suggests there should be only 201 samples in Pf7 that were HRP3-deleted. This should in theory be the same number of samples with the combination (del, 1), but this number is only 198. We're missing three samples. However, below is a calculation of how many samples that were previously HRP3-deleted in Pf7 and now fail sample QC for Pf8. The missing three samples are here. "
   ]
  },
  {
   "cell_type": "code",
   "execution_count": null,
   "id": "d6f4a3c7-9713-4664-9811-59413122d7f4",
   "metadata": {},
   "outputs": [],
   "source": [
    "sum([sample not in pf8_meta.Sample.values for sample in pf7_hrp.loc[pf7_hrp.HRP3 == \"del\", \"Sample\"].tolist()])"
   ]
  },
  {
   "cell_type": "markdown",
   "id": "efefe514-2e15-4f50-942e-29c12275da39",
   "metadata": {},
   "source": [
    "---\n",
    "\n",
    "# We're good to proceed. Let's build the hrp breakpoint file"
   ]
  },
  {
   "cell_type": "code",
   "execution_count": null,
   "id": "5a0287aa-0af5-4afe-a68a-129f55c0f01a",
   "metadata": {},
   "outputs": [],
   "source": [
    "pf8_hrp_breakpoint = pf8_hrp.drop(columns = [\"HRP2\", \"HRP3\"]).rename(columns = {\"Pf8 HRP2\": \"HRP2\", \"Pf8 HRP3\": \"HRP3\"})\n",
    "pf8_hrp_breakpoint[[\"HRP2\", \"HRP3\"]] = pf8_hrp_breakpoint[[\"HRP2\", \"HRP3\"]].replace({\n",
    "    -1: \"uncallable\",\n",
    "    0: \"nodel\",\n",
    "    1: \"del\"\n",
    "})\n",
    "\n",
    "pf8_hrp_breakpoint.head()"
   ]
  },
  {
   "cell_type": "code",
   "execution_count": null,
   "id": "434b8fac-a258-4d4a-a719-5c16684cc6df",
   "metadata": {},
   "outputs": [],
   "source": [
    "breakpoint_labels_dict = {\n",
    "    \"RCN14910\": (\"Pf3D7_13_v3:2800004-2807159\", \"Chromosome 11 recombination\"), # breakpoint is maybe 2,807,399 which is outside this range\n",
    "    \"RCN15202\": (\"Pf3D7_13_v3:2800004-2807159\", \"Chromosome 11 recombination\"),\n",
    "    \"RCN15215\": (\"Pf3D7_13_v3:2800004-2807159\", \"Chromosome 11 recombination\"), # similarly, breakpoint maybe slightly outside?\n",
    "    \"RCN15231\": (\"Pf3D7_13_v3:2800004-2807159\", \"Chromosome 11 recombination\"),\n",
    "    \"RCN15335\": (\"Pf3D7_13_v3:2800004-2807159\", \"Chromosome 11 recombination\"), # different to ones above, but still might be outside quoted range\n",
    "    \"SPT43994\": (\"Pf3D7_13_v3:2835899\", \"Telomere healing\"), # new, but confident this is the breakpoint\n",
    "    \"SPT50714\": (\"Pf3D7_13_v3:2800004-2807159\", \"Chromosome 11 recombination\"),\n",
    "    \"SPT83039\": (\"Pf3D7_13_v3:2800004-2807159\", \"Chromosome 11 recombination\"),\n",
    "    \"SPT83047\": (\"Pf3D7_13_v3:2840825\", \"Telomere healing\"), # only one read evidence and it's soft-clipped on both ends..\n",
    "    \"SPT83051\": (\"Pf3D7_13_v3:2800004-2807159\", \"Chromosome 11 recombination\"),\n",
    "    \"SPT83055\": (\"Pf3D7_13_v3:2840859\", \"Telomere healing\"),\n",
    "    \"SPT83074\": (\"Pf3D7_13_v3:2800004-2807159\", \"Chromosome 11 recombination\"),\n",
    "    \"SPT83076\": (\"Pf3D7_13_v3:2800004-2807159\", \"Chromosome 11 recombination\"),\n",
    "\n",
    "    # The following samples were called as -1 in Pf7\n",
    "    \"PV0132-C\": (\"Pf3D7_13_v3:2837144\", \"Telomere healing\"),\n",
    "    \"SPT16994\": (\"Pf3D7_13_v3:2800004-2807159\", \"Chromosome 11 recombination\"),\n",
    "    \"SPT34382\": (\"Pf3D7_13_v3:2800004-2807159\", \"Chromosome 11 recombination\"),\n",
    "    \"SPT38537\": (\"Pf3D7_13_v3:2800004-2807159\", \"Chromosome 11 recombination\"),\n",
    "}\n",
    "\n",
    "for sample, values in breakpoint_labels_dict.items():\n",
    "    pf8_hrp_breakpoint.loc[pf8_hrp_breakpoint.Sample == sample, \"HRP3_breakpoint\"] = values[0]\n",
    "    pf8_hrp_breakpoint.loc[pf8_hrp_breakpoint.Sample == sample, \"HRP3_deletion_type\"] = values[1]\n",
    "\n",
    "pf8_hrp_breakpoint[[\"HRP2_breakpoint\", \"HRP3_breakpoint\"]] = pf8_hrp_breakpoint[[\"HRP2_breakpoint\", \"HRP3_breakpoint\"]].fillna(\"-\")"
   ]
  },
  {
   "cell_type": "markdown",
   "id": "0aa99939-20b0-4a1d-822a-cb6da2a4cfb2",
   "metadata": {},
   "source": [
    "---\n",
    "\n",
    "# Final sanity checks"
   ]
  },
  {
   "cell_type": "code",
   "execution_count": null,
   "id": "49b48222-fc58-468b-9441-0fa6426bc3ad",
   "metadata": {},
   "outputs": [],
   "source": [
    "print(pf8_hrp_breakpoint[[\"HRP3_breakpoint\", \"HRP3_deletion_type\"]].value_counts())\n",
    "\n",
    "pf8_hrp_breakpoint[[\"HRP3_breakpoint\", \"HRP3_deletion_type\"]].value_counts().sum()"
   ]
  },
  {
   "cell_type": "code",
   "execution_count": null,
   "id": "7087478f-1c4d-49ce-8086-4d3d41f1a034",
   "metadata": {},
   "outputs": [],
   "source": [
    "print(pf8_hrp_breakpoint[[\"HRP2_breakpoint\", \"HRP2_deletion_type\"]].value_counts())\n",
    "\n",
    "pf8_hrp_breakpoint[[\"HRP2_breakpoint\", \"HRP2_deletion_type\"]].value_counts().sum()"
   ]
  },
  {
   "cell_type": "markdown",
   "id": "1214ced5-d738-421c-ba42-1a58bcf6c181",
   "metadata": {},
   "source": [
    "---\n",
    "\n",
    "# All good. Exporting as `hrp_calls_pf8.tsv`"
   ]
  },
  {
   "cell_type": "code",
   "execution_count": null,
   "id": "22adb256-cc27-4c8f-9a2b-0523bdb23cc8",
   "metadata": {},
   "outputs": [],
   "source": [
    "pf8_hrp_breakpoint[['Sample', 'HRP2', 'HRP3', 'HRP2_breakpoint', 'HRP3_breakpoint', 'HRP2_deletion_type', 'HRP3_deletion_type']].to_csv(\"hrp_calls_pf8.tsv\", sep = \"\\t\", index = False)"
   ]
  }
 ],
 "metadata": {
  "kernelspec": {
   "display_name": "Python 3 (ipykernel)",
   "language": "python",
   "name": "python3"
  },
  "language_info": {
   "codemirror_mode": {
    "name": "ipython",
    "version": 3
   },
   "file_extension": ".py",
   "mimetype": "text/x-python",
   "name": "python",
   "nbconvert_exporter": "python",
   "pygments_lexer": "ipython3",
   "version": "3.11.10"
  }
 },
 "nbformat": 4,
 "nbformat_minor": 5
}
